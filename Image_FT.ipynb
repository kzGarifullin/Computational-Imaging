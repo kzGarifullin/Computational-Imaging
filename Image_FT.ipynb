{
  "nbformat": 4,
  "nbformat_minor": 0,
  "metadata": {
    "colab": {
      "private_outputs": true,
      "provenance": [],
      "authorship_tag": "ABX9TyPBlJvBuPoCegWBnxlW221Z",
      "include_colab_link": true
    },
    "kernelspec": {
      "name": "python3",
      "display_name": "Python 3"
    },
    "language_info": {
      "name": "python"
    }
  },
  "cells": [
    {
      "cell_type": "markdown",
      "metadata": {
        "id": "view-in-github",
        "colab_type": "text"
      },
      "source": [
        "<a href=\"https://colab.research.google.com/github/kzGarifullin/Computational-Imaging/blob/main/Image_FT.ipynb\" target=\"_parent\"><img src=\"https://colab.research.google.com/assets/colab-badge.svg\" alt=\"Open In Colab\"/></a>"
      ]
    },
    {
      "cell_type": "code",
      "execution_count": null,
      "metadata": {
        "id": "aecqEWDVn6wY"
      },
      "outputs": [],
      "source": [
        "import cv2\n",
        "import numpy as np\n",
        "from google.colab.patches import cv2_imshow\n",
        "# now we will be loading the image and converting it to grayscale\n",
        "image = cv2.imread(r\"im1.jpg\")\n",
        "\n",
        "gray = cv2.cvtColor(image, cv2.COLOR_BGR2GRAY)\n",
        "\n",
        "# Compute the discrete Fourier Transform of the image\n",
        "fourier = cv2.dft(np.float32(gray), flags=cv2.DFT_COMPLEX_OUTPUT)\n",
        "\n",
        "# Shift the zero-frequency component to the center of the spectrum\n",
        "fourier_shift = np.fft.fftshift(fourier)\n",
        "\n",
        "# calculate the magnitude of the Fourier Transform\n",
        "magnitude = 20*np.log(cv2.magnitude(fourier_shift[:,:,0],fourier_shift[:,:,1]))\n",
        "\n",
        "# Scale the magnitude for display\n",
        "magnitude = cv2.normalize(magnitude, None, 0, 255, cv2.NORM_MINMAX, cv2.CV_8UC1)\n",
        "\n",
        "# Display the magnitude of the Fourier Transform\n",
        "cv2_imshow(magnitude)\n",
        "cv2.waitKey(0)\n",
        "cv2.destroyAllWindows()"
      ]
    },
    {
      "cell_type": "code",
      "source": [],
      "metadata": {
        "id": "lhKqFdyLqU9M"
      },
      "execution_count": null,
      "outputs": []
    },
    {
      "cell_type": "code",
      "source": [],
      "metadata": {
        "id": "qTXQltUxqVAH"
      },
      "execution_count": null,
      "outputs": []
    },
    {
      "cell_type": "code",
      "source": [],
      "metadata": {
        "id": "Ot3-Zo2fqVDD"
      },
      "execution_count": null,
      "outputs": []
    },
    {
      "cell_type": "code",
      "source": [
        "import numpy as np\n",
        "import cv2\n",
        "from matplotlib import pyplot as plt\n",
        "\n",
        "img = cv2.imread('im1.jpg',0)\n",
        "\n",
        "dft = cv2.dft(np.float32(img),flags = cv2.DFT_COMPLEX_OUTPUT)\n",
        "dft_shift = np.fft.fftshift(dft)\n",
        "\n",
        "magnitude_spectrum = 20*np.log(cv2.magnitude(dft_shift[:,:,0],dft_shift[:,:,1]))\n",
        "\n",
        "plt.subplot(121),plt.imshow(img, cmap = 'gray')\n",
        "plt.title('Input Image'), plt.xticks([]), plt.yticks([])\n",
        "plt.subplot(122),plt.imshow(magnitude_spectrum, cmap = 'gray')\n",
        "plt.title('Magnitude Spectrum'), plt.xticks([]), plt.yticks([])\n",
        "plt.show()"
      ],
      "metadata": {
        "id": "G4Bp7eVoqVGW"
      },
      "execution_count": null,
      "outputs": []
    },
    {
      "cell_type": "code",
      "source": [
        "crow"
      ],
      "metadata": {
        "id": "_vAkDRYsqhZr"
      },
      "execution_count": null,
      "outputs": []
    },
    {
      "cell_type": "code",
      "source": [
        "rows, cols = img.shape\n",
        "crow,ccol = rows//2 , cols//2\n",
        "\n",
        "# create a mask first, center square is 1, remaining all zeros\n",
        "mask = np.zeros((rows,cols,2),np.uint8)\n",
        "mask[crow-30:crow+30, ccol-30:ccol+30] = 1\n",
        "\n",
        "# apply mask and inverse DFT\n",
        "fshift = dft_shift*mask\n",
        "f_ishift = np.fft.ifftshift(fshift)\n",
        "img_back = cv2.idft(f_ishift)\n",
        "img_back = cv2.magnitude(img_back[:,:,0],img_back[:,:,1])\n",
        "\n",
        "plt.subplot(121),plt.imshow(img, cmap = 'gray')\n",
        "plt.title('Input Image'), plt.xticks([]), plt.yticks([])\n",
        "plt.subplot(122),plt.imshow(img_back, cmap = 'gray')\n",
        "plt.title('Magnitude Spectrum'), plt.xticks([]), plt.yticks([])\n",
        "plt.show()"
      ],
      "metadata": {
        "id": "UPR4Mplzo8e7"
      },
      "execution_count": null,
      "outputs": []
    },
    {
      "cell_type": "code",
      "source": [
        "rows, cols = img.shape\n",
        "crow,ccol = rows//2 , cols//2\n",
        "\n",
        "# create a mask first, center square is 1, remaining all zeros\n",
        "mask = np.ones((rows,cols,2),np.uint8)\n",
        "mask[crow-30:crow+30, ccol-30:ccol+30] = 0\n",
        "\n",
        "# apply mask and inverse DFT\n",
        "fshift = dft_shift*mask\n",
        "f_ishift = np.fft.ifftshift(fshift)\n",
        "img_back = cv2.idft(f_ishift)\n",
        "img_back = cv2.magnitude(img_back[:,:,0],img_back[:,:,1])\n",
        "\n",
        "plt.subplot(121),plt.imshow(img, cmap = 'gray')\n",
        "plt.title('Input Image'), plt.xticks([]), plt.yticks([])\n",
        "plt.subplot(122),plt.imshow(img_back, cmap = 'gray')\n",
        "plt.title('Magnitude Spectrum'), plt.xticks([]), plt.yticks([])\n",
        "plt.show()"
      ],
      "metadata": {
        "id": "NDKGanf1rJgq"
      },
      "execution_count": null,
      "outputs": []
    },
    {
      "cell_type": "code",
      "source": [
        "import numpy as np\n",
        "import matplotlib.pyplot as plt\n",
        "x = np.arange(-500, 501, 1)\n",
        "X, Y = np.meshgrid(x, x)\n",
        "wavelength = 200\n",
        "angle = np.pi / 9\n",
        "grating = np.sin(\n",
        "    2*np.pi*(X*np.cos(angle) + Y*np.sin(angle)) / wavelength\n",
        ")\n",
        "plt.set_cmap(\"gray\")\n",
        "plt.imshow(grating)\n",
        "plt.show()"
      ],
      "metadata": {
        "id": "lHYSVHFZq3kw"
      },
      "execution_count": null,
      "outputs": []
    },
    {
      "cell_type": "code",
      "source": [
        "import numpy as np\n",
        "import matplotlib.pyplot as plt\n",
        "x = np.arange(-500, 501, 1)\n",
        "X, Y = np.meshgrid(x, x)\n",
        "wavelength = 200\n",
        "angle = 0\n",
        "grating = np.sin(\n",
        "    2*np.pi*(X*np.cos(angle) + Y*np.sin(angle)) / wavelength\n",
        ")\n",
        "plt.set_cmap(\"gray\")\n",
        "plt.subplot(121)\n",
        "plt.imshow(grating)\n",
        "# Calculate Fourier transform of grating\n",
        "ft = np.fft.ifftshift(grating)\n",
        "ft = np.fft.fft2(ft)\n",
        "ft = np.fft.fftshift(ft)\n",
        "plt.subplot(122)\n",
        "plt.imshow(abs(ft))\n",
        "plt.xlim([480, 520])\n",
        "plt.ylim([520, 480])  # Note, order is reversed for y\n",
        "plt.show()"
      ],
      "metadata": {
        "id": "fUBntrzUxBXs"
      },
      "execution_count": null,
      "outputs": []
    },
    {
      "cell_type": "code",
      "source": [],
      "metadata": {
        "id": "yx5GX2w8xEIy"
      },
      "execution_count": null,
      "outputs": []
    },
    {
      "cell_type": "code",
      "source": [
        "img = cv2.imread('ens.JPG',0)\n",
        "\n",
        "dft = cv2.dft(np.float32(img),flags = cv2.DFT_COMPLEX_OUTPUT)\n",
        "dft_shift = np.fft.fftshift(dft)\n",
        "\n",
        "magnitude_spectrum = 20*np.log(cv2.magnitude(dft_shift[:,:,0],dft_shift[:,:,1]))\n",
        "\n",
        "plt.subplot(121),plt.imshow(img, cmap = 'gray')\n",
        "plt.title('Input Image'), plt.xticks([]), plt.yticks([])\n",
        "plt.subplot(122),plt.imshow(magnitude_spectrum, cmap = 'gray')\n",
        "plt.title('Magnitude Spectrum'), plt.xticks([]), plt.yticks([])\n",
        "plt.show()"
      ],
      "metadata": {
        "id": "qefg8_jvxGTl"
      },
      "execution_count": null,
      "outputs": []
    },
    {
      "cell_type": "code",
      "source": [
        "\n",
        "img = cv2.imread('ens.JPG',0)\n",
        "\n",
        "dft = cv2.dft(np.float32(img),flags = cv2.DFT_COMPLEX_OUTPUT)\n",
        "dft_shift = np.fft.fftshift(dft)\n",
        "\n",
        "magnitude_spectrum = 20*np.log(cv2.magnitude(dft_shift[:,:,0],dft_shift[:,:,1]))\n",
        "\n",
        "plt.subplot(121),plt.imshow(img, cmap = 'gray')\n",
        "plt.title('Input Image'), plt.xticks([]), plt.yticks([])\n",
        "plt.subplot(122),plt.imshow(magnitude_spectrum, cmap = 'gray')\n",
        "plt.title('Magnitude Spectrum'), plt.xticks([]), plt.yticks([])\n",
        "plt.show()"
      ],
      "metadata": {
        "id": "2GwdoZrPDx3U"
      },
      "execution_count": null,
      "outputs": []
    },
    {
      "cell_type": "code",
      "source": [
        "\n",
        "top_left = (139, 196) # x = 139   y = 196\n",
        "bottom_right = (150, 207)\n",
        "\n",
        "#(168,236)\n",
        "# 175 243\n",
        "\n",
        "\n",
        "# Define the color of the rectangle (BGR format, so (0, 0, 255) is red)\n",
        "color = (0, 0, 255)\n",
        "\n",
        "# Define the thickness of the rectangle border (use -1 to fill the rectangle)\n",
        "thickness = 1\n",
        "\n",
        "# Draw the rectangle on the image\n",
        "cv2.rectangle(magnitude_spectrum, top_left, bottom_right, color, thickness)\n",
        "\n",
        "# Save or display the image\n",
        "cv2.imwrite('output_image.jpg', magnitude_spectrum)\n",
        "cv2_imshow(magnitude_spectrum)\n",
        "cv2.waitKey(0)\n",
        "cv2.destroyAllWindows()\n"
      ],
      "metadata": {
        "id": "mYI1YC5481sH"
      },
      "execution_count": null,
      "outputs": []
    },
    {
      "cell_type": "code",
      "source": [
        "rows, cols = img.shape"
      ],
      "metadata": {
        "id": "nXB65OTj_CTN"
      },
      "execution_count": null,
      "outputs": []
    },
    {
      "cell_type": "code",
      "source": [
        "rows"
      ],
      "metadata": {
        "id": "WKLkzhvj_DS3"
      },
      "execution_count": null,
      "outputs": []
    },
    {
      "cell_type": "code",
      "source": [
        "cols # ширина"
      ],
      "metadata": {
        "id": "0Mk0wLSv_Ebz"
      },
      "execution_count": null,
      "outputs": []
    },
    {
      "cell_type": "code",
      "source": [
        "import numpy as np\n",
        "import cv2\n",
        "from matplotlib import pyplot as plt\n",
        "\n",
        "img = cv2.imread('ens.JPG',0)\n",
        "rows, cols = img.shape\n",
        "crow,ccol = rows//2 , cols//2\n",
        "\n",
        "# create a mask first, center square is 1, remaining all zeros\n",
        "mask = np.ones((rows,cols,2),np.uint8)\n",
        "mask[ 196:207,139:150] = 0\n",
        "mask[236:243,168:175] = 0\n",
        "\n",
        "#(168,236)\n",
        "# 175 243\n",
        "\n",
        "# apply mask and inverse DFT\n",
        "fshift = dft_shift*mask\n",
        "f_ishift = np.fft.ifftshift(fshift)\n",
        "img_back = cv2.idft(f_ishift)\n",
        "img_back = cv2.magnitude(img_back[:,:,0],img_back[:,:,1])\n",
        "\n",
        "plt.subplot(121),plt.imshow(img, cmap = 'gray')\n",
        "plt.title('Input Image'), plt.xticks([]), plt.yticks([])\n",
        "plt.subplot(122),plt.imshow(img_back, cmap = 'gray')\n",
        "plt.title('Magnitude Spectrum'), plt.xticks([]), plt.yticks([])\n",
        "plt.show()"
      ],
      "metadata": {
        "id": "gXix1qic6SLo"
      },
      "execution_count": null,
      "outputs": []
    },
    {
      "cell_type": "code",
      "source": [
        "import numpy as np\n",
        "import matplotlib.pyplot as plt\n",
        "\n",
        "from skimage import color, data, restoration\n",
        "\n",
        "rng = np.random.default_rng()\n",
        "\n",
        "astro = color.rgb2gray(data.astronaut())\n",
        "from scipy.signal import convolve2d as conv2\n",
        "psf = np.ones((5, 5)) / 25\n",
        "astro = conv2(astro, psf, 'same')\n",
        "astro += 0.1 * astro.std() * rng.standard_normal(astro.shape)\n",
        "\n",
        "deconvolved, _ = restoration.unsupervised_wiener(astro, psf)\n",
        "\n",
        "fig, ax = plt.subplots(nrows=1, ncols=2, figsize=(8, 5),\n",
        "                       sharex=True, sharey=True)\n",
        "\n",
        "plt.gray()\n",
        "\n",
        "ax[0].imshow(astro, vmin=deconvolved.min(), vmax=deconvolved.max())\n",
        "ax[0].axis('off')\n",
        "ax[0].set_title('Data')\n",
        "\n",
        "ax[1].imshow(deconvolved)\n",
        "ax[1].axis('off')\n",
        "ax[1].set_title('Self tuned restoration')\n",
        "\n",
        "fig.tight_layout()\n",
        "\n",
        "plt.show()"
      ],
      "metadata": {
        "id": "ZwQVxzlJ7nuq"
      },
      "execution_count": null,
      "outputs": []
    },
    {
      "cell_type": "code",
      "source": [
        "psf"
      ],
      "metadata": {
        "id": "AJYN1990NGKV"
      },
      "execution_count": null,
      "outputs": []
    },
    {
      "cell_type": "code",
      "source": [
        "astro"
      ],
      "metadata": {
        "id": "bkmcy0vCNckd"
      },
      "execution_count": null,
      "outputs": []
    },
    {
      "cell_type": "code",
      "source": [
        "astro = color.rgb2gray(data.astronaut())"
      ],
      "metadata": {
        "id": "pjS34Pt2Niax"
      },
      "execution_count": null,
      "outputs": []
    },
    {
      "cell_type": "code",
      "source": [
        "astro = conv2(astro, psf, 'same')\n",
        "astro += 0.1 * astro.std() * rng.standard_normal(astro.shape)"
      ],
      "metadata": {
        "id": "Zzlh4sq-PNal"
      },
      "execution_count": null,
      "outputs": []
    },
    {
      "cell_type": "code",
      "source": [],
      "metadata": {
        "id": "Ejuob80QOyO-"
      },
      "execution_count": null,
      "outputs": []
    },
    {
      "cell_type": "code",
      "source": [],
      "metadata": {
        "id": "NoqpDF8jPFk9"
      },
      "execution_count": null,
      "outputs": []
    },
    {
      "cell_type": "code",
      "source": [],
      "metadata": {
        "id": "cR4DRduvPR1V"
      },
      "execution_count": null,
      "outputs": []
    }
  ]
}